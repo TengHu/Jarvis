{
 "cells": [
  {
   "cell_type": "code",
   "execution_count": 1,
   "id": "1f9aab0d-a260-4095-9047-cc87f5da2d95",
   "metadata": {},
   "outputs": [],
   "source": [
    "import logging\n",
    "from jarvis.bot import JarvisBot\n",
    "\n",
    "logging.basicConfig(\n",
    "    filename='agent.log',\n",
    "    filemode='a',\n",
    "    format='%(asctime)s.%(msecs)04d %(levelname)s {%(module)s} [%(funcName)s] %(message)s',\n",
    "    level=logging.INFO,\n",
    "    datefmt='%Y-%m-%d %H:%M:%S'\n",
    ")\n",
    "\n",
    "logger = logging.getLogger(__name__)\n",
    "logger.setLevel(logging.DEBUG)"
   ]
  },
  {
   "cell_type": "code",
   "execution_count": 2,
   "id": "43864e95-3b20-4bb9-8260-4c71c66dfa14",
   "metadata": {},
   "outputs": [],
   "source": [
    "\n",
    "import streamlit as st\n",
    "agent = JarvisBot(logger, st)"
   ]
  },
  {
   "cell_type": "code",
   "execution_count": null,
   "id": "a243e9b6-f9c0-4576-897e-44fb80795a15",
   "metadata": {},
   "outputs": [],
   "source": [
    "agent.read(urls=[\"https://github.com/TengHu/ActionWeaver\"])"
   ]
  },
  {
   "cell_type": "code",
   "execution_count": 7,
   "id": "9e54debe-39fd-4b26-8ade-61cf963566cc",
   "metadata": {},
   "outputs": [
    {
     "data": {
      "text/plain": [
       "'This framework consists of several parts.'"
      ]
     },
     "execution_count": 7,
     "metadata": {},
     "output_type": "execute_result"
    }
   ],
   "source": [
    "res = agent.recall(\"what is actionweaver\")\n",
    "\n",
    "res"
   ]
  },
  {
   "cell_type": "code",
   "execution_count": 10,
   "id": "bdf6f7b8-475b-4242-a394-7677ab269ba5",
   "metadata": {},
   "outputs": [],
   "source": [
    "from typing import List\n",
    "\n",
    "from pydantic import BaseModel\n",
    "\n",
    "from actionweaver import action\n",
    "\n",
    "\n",
    "class Place(BaseModel):\n",
    "    lat: float\n",
    "    lng: float\n",
    "    description: str"
   ]
  },
  {
   "cell_type": "code",
   "execution_count": 12,
   "id": "a16f0ca6-762c-4eed-aaf4-156edb3284ac",
   "metadata": {},
   "outputs": [],
   "source": [
    "from operator import itemgetter\n",
    "\n",
    "from langchain.chat_models import ChatOpenAI\n",
    "from langchain.embeddings import OpenAIEmbeddings\n",
    "from langchain.prompts import ChatPromptTemplate\n",
    "from langchain.schema.output_parser import StrOutputParser\n",
    "from langchain.schema.runnable import RunnableLambda, RunnablePassthrough\n",
    "from langchain.vectorstores import FAISS"
   ]
  },
  {
   "cell_type": "code",
   "execution_count": 35,
   "id": "c222a860-ec6a-4572-9b11-b16ce5f6c9bb",
   "metadata": {},
   "outputs": [],
   "source": []
  },
  {
   "cell_type": "code",
   "execution_count": 36,
   "id": "5be09b6c-fb01-42b0-adc6-8098f14dfc10",
   "metadata": {},
   "outputs": [
    {
     "data": {
      "text/plain": [
       "['If you collected lists of techniques for doing great work in a lot of different fields, what would the intersection look like? I decided to find out by making it.',\n",
       " 'Partly my goal was to create a guide that could be used by someone working in any field. But I was also curious about the shape of the intersection. And one thing this exercise shows is that it does',\n",
       " 'is that it does have a definite shape; it\\'s not just a point labelled \"work hard.\"',\n",
       " \"The following recipe assumes you're very ambitious.\",\n",
       " 'The first step is to decide what to work on. The work you choose needs to have three qualities: it has to be something you have a natural aptitude for, that you have a deep interest in, and that',\n",
       " 'in, and that offers scope to do great work.',\n",
       " \"In practice you don't have to worry much about the third criterion. Ambitious people are if anything already too conservative about it. So all you need to do is find something you have an aptitude\",\n",
       " 'have an aptitude for and great interest in. [1]',\n",
       " \"That sounds straightforward, but it's often quite difficult. When you're young you don't know what you're good at or what different kinds of work are like. Some kinds of work you end up doing may not\",\n",
       " 'up doing may not even exist yet. So while some people know what they want to do at 14, most have to figure it out.',\n",
       " \"The way to figure out what to work on is by working. If you're not sure what to work on, guess. But pick something and get going. You'll probably guess wrong some of the time, but that's fine. It's\",\n",
       " \"that's fine. It's good to know about multiple things; some of the biggest discoveries come from noticing connections between different fields.\",\n",
       " \"Develop a habit of working on your own projects. Don't let\"]"
      ]
     },
     "execution_count": 36,
     "metadata": {},
     "output_type": "execute_result"
    }
   ],
   "source": [
    "text = \"\"\"If you collected lists of techniques for doing great work in a lot of different fields, what would the intersection look like? I decided to find out by making it.\n",
    "\n",
    "Partly my goal was to create a guide that could be used by someone working in any field. But I was also curious about the shape of the intersection. And one thing this exercise shows is that it does have a definite shape; it's not just a point labelled \"work hard.\"\n",
    "\n",
    "The following recipe assumes you're very ambitious.\n",
    "\n",
    "\n",
    "\n",
    "\n",
    "\n",
    "The first step is to decide what to work on. The work you choose needs to have three qualities: it has to be something you have a natural aptitude for, that you have a deep interest in, and that offers scope to do great work.\n",
    "\n",
    "In practice you don't have to worry much about the third criterion. Ambitious people are if anything already too conservative about it. So all you need to do is find something you have an aptitude for and great interest in. [1]\n",
    "\n",
    "That sounds straightforward, but it's often quite difficult. When you're young you don't know what you're good at or what different kinds of work are like. Some kinds of work you end up doing may not even exist yet. So while some people know what they want to do at 14, most have to figure it out.\n",
    "\n",
    "The way to figure out what to work on is by working. If you're not sure what to work on, guess. But pick something and get going. You'll probably guess wrong some of the time, but that's fine. It's good to know about multiple things; some of the biggest discoveries come from noticing connections between different fields.\n",
    "\n",
    "Develop a habit of working on your own projects. Don't let \"\"\"\n",
    "\n",
    "chunk(text)"
   ]
  },
  {
   "cell_type": "code",
   "execution_count": 31,
   "id": "0f86b252-4a37-4e9a-95e9-73154abb3d66",
   "metadata": {},
   "outputs": [
    {
     "data": {
      "text/plain": [
       "[Document(page_content='If you collected lists of techniques for doing great work in a lot of different fields, what would the intersection look like? I decided to find out by making it.', metadata={'start_index': 0}),\n",
       " Document(page_content='Partly my goal was to create a guide that could be used by someone working in any field. But I was also curious about the shape of the intersection. And one thing this exercise shows is that it does', metadata={'start_index': 164}),\n",
       " Document(page_content='is that it does have a definite shape; it\\'s not just a point labelled \"work hard.\"', metadata={'start_index': 347}),\n",
       " Document(page_content=\"The following recipe assumes you're very ambitious.\", metadata={'start_index': 431}),\n",
       " Document(page_content='The first step is to decide what to work on. The work you choose needs to have three qualities: it has to be something you have a natural aptitude for, that you have a deep interest in, and that', metadata={'start_index': 488}),\n",
       " Document(page_content='in, and that offers scope to do great work.', metadata={'start_index': 670}),\n",
       " Document(page_content=\"In practice you don't have to worry much about the third criterion. Ambitious people are if anything already too conservative about it. So all you need to do is find something you have an aptitude\", metadata={'start_index': 715}),\n",
       " Document(page_content='have an aptitude for and great interest in. [1]', metadata={'start_index': 895}),\n",
       " Document(page_content=\"That sounds straightforward, but it's often quite difficult. When you're young you don't know what you're good at or what different kinds of work are like. Some kinds of work you end up doing may not\", metadata={'start_index': 944}),\n",
       " Document(page_content='up doing may not even exist yet. So while some people know what they want to do at 14, most have to figure it out.', metadata={'start_index': 1127}),\n",
       " Document(page_content=\"The way to figure out what to work on is by working. If you're not sure what to work on, guess. But pick something and get going. You'll probably guess wrong some of the time, but that's fine. It's\", metadata={'start_index': 1243}),\n",
       " Document(page_content=\"that's fine. It's good to know about multiple things; some of the biggest discoveries come from noticing connections between different fields.\", metadata={'start_index': 1423}),\n",
       " Document(page_content=\"Develop a habit of working on your own projects. Don't let\", metadata={'start_index': 1567})]"
      ]
     },
     "execution_count": 31,
     "metadata": {},
     "output_type": "execute_result"
    }
   ],
   "source": [
    "ans"
   ]
  },
  {
   "cell_type": "code",
   "execution_count": null,
   "id": "4521658a-c67e-48f5-9013-c07a87638080",
   "metadata": {},
   "outputs": [],
   "source": []
  }
 ],
 "metadata": {
  "kernelspec": {
   "display_name": "Python 3 (ipykernel)",
   "language": "python",
   "name": "python3"
  },
  "language_info": {
   "codemirror_mode": {
    "name": "ipython",
    "version": 3
   },
   "file_extension": ".py",
   "mimetype": "text/x-python",
   "name": "python",
   "nbconvert_exporter": "python",
   "pygments_lexer": "ipython3",
   "version": "3.9.2"
  }
 },
 "nbformat": 4,
 "nbformat_minor": 5
}
